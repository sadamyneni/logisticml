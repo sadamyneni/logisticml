{
 "cells": [
  {
   "cell_type": "code",
   "execution_count": 1,
   "id": "310dbc6f",
   "metadata": {},
   "outputs": [],
   "source": [
    "import numpy as np\n"
   ]
  },
  {
   "cell_type": "code",
   "execution_count": 22,
   "id": "578859ce",
   "metadata": {},
   "outputs": [
    {
     "name": "stdout",
     "output_type": "stream",
     "text": [
      " 1  0.7310585786300049\n",
      " 2  0.8807970779778823\n",
      " 3  0.9525741268224334\n",
      " 4  0.9820137900379085\n",
      " 5  0.9933071490757153\n",
      " 6  0.9975273768433653\n",
      " 7  0.9990889488055994\n",
      " 8  0.9996646498695336\n",
      " 9  0.9998766054240137\n"
     ]
    }
   ],
   "source": [
    "for i in range(1,10,1):\n",
    "    print(\" {}  {}\".format(i,1/(1+np.exp(-i))))"
   ]
  },
  {
   "cell_type": "code",
   "execution_count": 14,
   "id": "c0264a26",
   "metadata": {},
   "outputs": [
    {
     "data": {
      "text/plain": [
       "20.085536923187664"
      ]
     },
     "execution_count": 14,
     "metadata": {},
     "output_type": "execute_result"
    }
   ],
   "source": [
    "pow(2.718281828459045,4\n",
    "   )"
   ]
  },
  {
   "cell_type": "code",
   "execution_count": 23,
   "id": "584e83e2",
   "metadata": {},
   "outputs": [],
   "source": [
    "import matplotlib.pyplot as plt"
   ]
  },
  {
   "cell_type": "code",
   "execution_count": 25,
   "id": "b5590708",
   "metadata": {},
   "outputs": [],
   "source": [
    "x=range(1,10,1)\n",
    "y=[ 1/(1+np.exp(-i)) for i in x]"
   ]
  },
  {
   "cell_type": "code",
   "execution_count": 29,
   "id": "2e496991",
   "metadata": {},
   "outputs": [
    {
     "data": {
      "text/plain": [
       "[<matplotlib.lines.Line2D at 0x8d22f6b040>]"
      ]
     },
     "execution_count": 29,
     "metadata": {},
     "output_type": "execute_result"
    },
    {
     "data": {
      "image/png": "[encoded data removed]",
      "text/plain": [
       "<Figure size 432x288 with 1 Axes>"
      ]
     },
     "metadata": {
      "needs_background": "light"
     },
     "output_type": "display_data"
    }
   ],
   "source": [
    "plt.plot(x,y)"
   ]
  },
  {
   "cell_type": "code",
   "execution_count": null,
   "id": "e047c046",
   "metadata": {},
   "outputs": [],
   "source": []
  }
 ],
 "metadata": {
  "kernelspec": {
   "display_name": "Python 3",
   "language": "python",
   "name": "python3"
  },
  "language_info": {
   "codemirror_mode": {
    "name": "ipython",
    "version": 3
   },
   "file_extension": ".py",
   "mimetype": "text/x-python",
   "name": "python",
   "nbconvert_exporter": "python",
   "pygments_lexer": "ipython3",
   "version": "3.8.8"
  }
 },
 "nbformat": 4,
 "nbformat_minor": 5
}
